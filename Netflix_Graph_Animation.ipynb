{
 "cells": [
  {
   "cell_type": "code",
   "execution_count": 1,
   "metadata": {},
   "outputs": [],
   "source": [
    "import pandas as pd\n",
    "from matplotlib import pyplot as plt\n",
    "from matplotlib.animation import FuncAnimation\n",
    "import seaborn as sns\n",
    "import datetime as dt\n",
    "\n",
    "pd.set_option(\"display.max_columns\", 50)\n",
    "pd.set_option(\"display.max_rows\", 400000)\n",
    "pd.set_option(\"display.width\", 1000)\n",
    "\n",
    "sns.set_style(\"darkgrid\")\n",
    "sns.set_palette('muted')\n",
    "\n",
    "plt.rcParams['figure.figsize'] = [24, 18]\n",
    "plt.rcParams['figure.dpi'] = 150 # 200 e.g. is really fine, but slower"
   ]
  },
  {
   "cell_type": "code",
   "execution_count": 3,
   "metadata": {},
   "outputs": [
    {
     "data": {
      "text/html": [
       "<div>\n",
       "<style scoped>\n",
       "    .dataframe tbody tr th:only-of-type {\n",
       "        vertical-align: middle;\n",
       "    }\n",
       "\n",
       "    .dataframe tbody tr th {\n",
       "        vertical-align: top;\n",
       "    }\n",
       "\n",
       "    .dataframe thead th {\n",
       "        text-align: right;\n",
       "    }\n",
       "</style>\n",
       "<table border=\"1\" class=\"dataframe\">\n",
       "  <thead>\n",
       "    <tr style=\"text-align: right;\">\n",
       "      <th></th>\n",
       "      <th>title</th>\n",
       "      <th>date</th>\n",
       "      <th>show_name</th>\n",
       "      <th>time</th>\n",
       "    </tr>\n",
       "  </thead>\n",
       "  <tbody>\n",
       "    <tr>\n",
       "      <th>0</th>\n",
       "      <td>How I Met Your Mother: Season 7: The Magician'...</td>\n",
       "      <td>2021-01-24</td>\n",
       "      <td>How I Met Your Mother</td>\n",
       "      <td>21</td>\n",
       "    </tr>\n",
       "    <tr>\n",
       "      <th>1</th>\n",
       "      <td>How I Met Your Mother: Season 7: Good Crazy</td>\n",
       "      <td>2021-01-24</td>\n",
       "      <td>How I Met Your Mother</td>\n",
       "      <td>22</td>\n",
       "    </tr>\n",
       "    <tr>\n",
       "      <th>2</th>\n",
       "      <td>How I Met Your Mother: Season 7: Now We're Even</td>\n",
       "      <td>2021-01-24</td>\n",
       "      <td>How I Met Your Mother</td>\n",
       "      <td>22</td>\n",
       "    </tr>\n",
       "    <tr>\n",
       "      <th>3</th>\n",
       "      <td>How I Met Your Mother: Season 7: Trilogy Time</td>\n",
       "      <td>2021-01-24</td>\n",
       "      <td>How I Met Your Mother</td>\n",
       "      <td>21</td>\n",
       "    </tr>\n",
       "    <tr>\n",
       "      <th>4</th>\n",
       "      <td>How I Met Your Mother: Season 7: The Broath</td>\n",
       "      <td>2021-01-24</td>\n",
       "      <td>How I Met Your Mother</td>\n",
       "      <td>22</td>\n",
       "    </tr>\n",
       "  </tbody>\n",
       "</table>\n",
       "</div>"
      ],
      "text/plain": [
       "                                               title       date              show_name  time\n",
       "0  How I Met Your Mother: Season 7: The Magician'... 2021-01-24  How I Met Your Mother    21\n",
       "1        How I Met Your Mother: Season 7: Good Crazy 2021-01-24  How I Met Your Mother    22\n",
       "2    How I Met Your Mother: Season 7: Now We're Even 2021-01-24  How I Met Your Mother    22\n",
       "3      How I Met Your Mother: Season 7: Trilogy Time 2021-01-24  How I Met Your Mother    21\n",
       "4        How I Met Your Mother: Season 7: The Broath 2021-01-24  How I Met Your Mother    22"
      ]
     },
     "execution_count": 3,
     "metadata": {},
     "output_type": "execute_result"
    }
   ],
   "source": [
    "netflix = pd.read_excel('netflix_parsed.xlsx')\n",
    "netflix = netflix[netflix['time'] < 200]\n",
    "netflix.head()"
   ]
  },
  {
   "cell_type": "code",
   "execution_count": 4,
   "metadata": {},
   "outputs": [],
   "source": [
    "netflix_group = netflix.groupby(['show_name', 'date'])['time'].sum().reset_index()\n",
    "netflix_group = netflix_group.pivot(index='date', columns='show_name', values='time').reset_index()\n",
    "netflix_group = netflix_group.set_index('date')\n",
    "netflix_group = netflix_group.fillna(0)\n",
    "\n",
    "netflix_group = netflix_group.cumsum()\n"
   ]
  },
  {
   "cell_type": "code",
   "execution_count": 5,
   "metadata": {},
   "outputs": [],
   "source": [
    "top_n = 2\n",
    "\n",
    "top_names = list (netflix_group.loc['2021-01-24'].sort_values(ascending=False).index)[:top_n]\n",
    "\n",
    "netflix_group = netflix_group[top_names]"
   ]
  },
  {
   "cell_type": "code",
   "execution_count": 6,
   "metadata": {},
   "outputs": [],
   "source": [
    "netflix_group = netflix_group[netflix_group.sum().sort_values(ascending=True).index]"
   ]
  },
  {
   "cell_type": "code",
   "execution_count": 10,
   "metadata": {},
   "outputs": [],
   "source": [
    "colors = plt.cm.tab20(range(100))\n",
    "def init():\n",
    "    ax.clear()\n",
    "#     ax.set_xlim([0, netflix_group.drop(columns='date').values.max()])\n",
    "\n",
    "def update(i):\n",
    "    data = netflix_group\n",
    "    y = data.columns\n",
    "    width = data.iloc[i]\n",
    "    date = data.index[i]\n",
    "    ax.barh(y=y, width=width, tick_label=data.columns, color=colors)\n",
    "    ax.set(title=f'Netflix Lockdown Viewing - {date}', xlabel='Minutes')\n",
    "    \n",
    "    rects = ax.patches\n",
    "\n",
    "    # For each bar: Place a label\n",
    "    for rect in rects:\n",
    "        # Get X and Y placement of label from rect.\n",
    "        x_value = rect.get_width()\n",
    "        y_value = rect.get_y() + rect.get_height() / 2\n",
    "\n",
    "        # Number of points between bar and label. Change to your liking.\n",
    "        space = 5\n",
    "        # Vertical alignment for positive values\n",
    "        ha = 'left'\n",
    "\n",
    "        # If value of bar is negative: Place label left of bar\n",
    "        if x_value < 0:\n",
    "            # Invert space to place label to the left\n",
    "            space *= -1\n",
    "            # Horizontally align label at right\n",
    "            ha = 'right'\n",
    "\n",
    "        # Use X value as label and format number with one decimal place\n",
    "        label = \"{:.1f}\".format(x_value)\n",
    "\n",
    "        # Create annotation\n",
    "        ax.annotate(\n",
    "            label,                      # Use `label` as label\n",
    "            (x_value, y_value),         # Place label at end of the bar\n",
    "            xytext=(space, 0),          # Horizontally shift label by `space`\n",
    "            textcoords=\"offset points\", # Interpret `xytext` as offset in points\n",
    "            va='center',                # Vertically center label\n",
    "            ha=ha)                      # Horizontally align label differently for\n",
    "                                        # positive and negative values.\n",
    "    \n",
    "    \n",
    "fig = plt.Figure(figsize=(12, 8), dpi=200, tight_layout=True)\n",
    "ax = fig.add_subplot()\n",
    "anim = FuncAnimation(fig=fig, func=update, init_func=init, frames=len(netflix_group), \n",
    "                     interval=100, repeat=False)"
   ]
  },
  {
   "cell_type": "code",
   "execution_count": null,
   "metadata": {
    "scrolled": false
   },
   "outputs": [],
   "source": [
    "from IPython.display import HTML\n",
    "html = anim.to_html5_video()\n",
    "HTML(html)\n"
   ]
  },
  {
   "cell_type": "code",
   "execution_count": null,
   "metadata": {},
   "outputs": [],
   "source": [
    "anim.save('netflixbinge.mp4')"
   ]
  },
  {
   "cell_type": "code",
   "execution_count": null,
   "metadata": {},
   "outputs": [],
   "source": []
  }
 ],
 "metadata": {
  "kernelspec": {
   "display_name": "Python 3",
   "language": "python",
   "name": "python3"
  },
  "language_info": {
   "codemirror_mode": {
    "name": "ipython",
    "version": 3
   },
   "file_extension": ".py",
   "mimetype": "text/x-python",
   "name": "python",
   "nbconvert_exporter": "python",
   "pygments_lexer": "ipython3",
   "version": "3.7.6"
  }
 },
 "nbformat": 4,
 "nbformat_minor": 4
}
